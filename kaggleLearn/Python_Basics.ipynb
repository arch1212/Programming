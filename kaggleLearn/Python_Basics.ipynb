{
  "nbformat": 4,
  "nbformat_minor": 0,
  "metadata": {
    "colab": {
      "name": "Python Basics.ipynb",
      "version": "0.3.2",
      "provenance": [],
      "include_colab_link": true
    },
    "kernelspec": {
      "name": "python3",
      "display_name": "Python 3"
    }
  },
  "cells": [
    {
      "cell_type": "markdown",
      "metadata": {
        "id": "view-in-github",
        "colab_type": "text"
      },
      "source": [
        "<a href=\"https://colab.research.google.com/github/arch1212/Programming/blob/master/kaggleLearn/Python_Basics.ipynb\" target=\"_parent\"><img src=\"https://colab.research.google.com/assets/colab-badge.svg\" alt=\"Open In Colab\"/></a>"
      ]
    },
    {
      "metadata": {
        "id": "Z89qdyLrK63P",
        "colab_type": "code",
        "outputId": "e40efc27-4ddb-4a30-afe3-2982c7586af5",
        "colab": {
          "base_uri": "https://localhost:8080/",
          "height": 34
        }
      },
      "cell_type": "code",
      "source": [
        "spam_amount = 0\n",
        "print(spam_amount)"
      ],
      "execution_count": 0,
      "outputs": [
        {
          "output_type": "stream",
          "text": [
            "0\n"
          ],
          "name": "stdout"
        }
      ]
    },
    {
      "metadata": {
        "id": "LiQuA57_L5_U",
        "colab_type": "code",
        "outputId": "729f153f-4887-470c-f822-be509a27fcc6",
        "colab": {
          "base_uri": "https://localhost:8080/",
          "height": 50
        }
      },
      "cell_type": "code",
      "source": [
        "spam_amount = spam_amount + 4\n",
        "\n",
        "if spam_amount > 0:\n",
        "    print('I don\\'t want any spam')\n",
        "   \n",
        "viking_song = \"Spam\" * spam_amount\n",
        "print(viking_song)"
      ],
      "execution_count": 0,
      "outputs": [
        {
          "output_type": "stream",
          "text": [
            "I don't want any spam\n",
            "SpamSpamSpamSpam\n"
          ],
          "name": "stdout"
        }
      ]
    },
    {
      "metadata": {
        "id": "yQ1DNV4WMKK3",
        "colab_type": "code",
        "outputId": "b1e9f893-6ca0-42cf-9b40-ce2dc65738c4",
        "colab": {
          "base_uri": "https://localhost:8080/",
          "height": 34
        }
      },
      "cell_type": "code",
      "source": [
        "type(spam_amount)"
      ],
      "execution_count": 0,
      "outputs": [
        {
          "output_type": "execute_result",
          "data": {
            "text/plain": [
              "int"
            ]
          },
          "metadata": {
            "tags": []
          },
          "execution_count": 5
        }
      ]
    },
    {
      "metadata": {
        "id": "QXw3mXmORTVj",
        "colab_type": "code",
        "outputId": "b668c62e-a1ce-4a29-cd91-141fd99c4ad6",
        "colab": {
          "base_uri": "https://localhost:8080/",
          "height": 34
        }
      },
      "cell_type": "code",
      "source": [
        "type(19.95)"
      ],
      "execution_count": 0,
      "outputs": [
        {
          "output_type": "execute_result",
          "data": {
            "text/plain": [
              "float"
            ]
          },
          "metadata": {
            "tags": []
          },
          "execution_count": 6
        }
      ]
    },
    {
      "metadata": {
        "id": "tHC3jWFORX46",
        "colab_type": "code",
        "outputId": "fea344c1-9a3f-4c8a-ccec-cc766465cf2c",
        "colab": {
          "base_uri": "https://localhost:8080/",
          "height": 34
        }
      },
      "cell_type": "code",
      "source": [
        "print(10/2)"
      ],
      "execution_count": 0,
      "outputs": [
        {
          "output_type": "stream",
          "text": [
            "5.0\n"
          ],
          "name": "stdout"
        }
      ]
    },
    {
      "metadata": {
        "id": "NwhMb6zxSYcg",
        "colab_type": "code",
        "outputId": "c4052f2e-0030-48f0-c8d0-a5e1f3be45de",
        "colab": {
          "base_uri": "https://localhost:8080/",
          "height": 34
        }
      },
      "cell_type": "code",
      "source": [
        "print(11//2)"
      ],
      "execution_count": 0,
      "outputs": [
        {
          "output_type": "stream",
          "text": [
            "5\n"
          ],
          "name": "stdout"
        }
      ]
    },
    {
      "metadata": {
        "id": "w0K3VS51SazH",
        "colab_type": "code",
        "outputId": "a6911bb9-7068-446a-89b0-038e88ec8827",
        "colab": {
          "base_uri": "https://localhost:8080/",
          "height": 34
        }
      },
      "cell_type": "code",
      "source": [
        "float(10)"
      ],
      "execution_count": 0,
      "outputs": [
        {
          "output_type": "execute_result",
          "data": {
            "text/plain": [
              "10.0"
            ]
          },
          "metadata": {
            "tags": []
          },
          "execution_count": 9
        }
      ]
    },
    {
      "metadata": {
        "id": "Bi5CoYQjS6hc",
        "colab_type": "code",
        "outputId": "dc3cab5c-3292-467b-e4cd-0bfb64f3cbc2",
        "colab": {
          "base_uri": "https://localhost:8080/",
          "height": 34
        }
      },
      "cell_type": "code",
      "source": [
        "int(10.9)"
      ],
      "execution_count": 0,
      "outputs": [
        {
          "output_type": "execute_result",
          "data": {
            "text/plain": [
              "10"
            ]
          },
          "metadata": {
            "tags": []
          },
          "execution_count": 10
        }
      ]
    },
    {
      "metadata": {
        "id": "01YoovOFWZ65",
        "colab_type": "text"
      },
      "cell_type": "markdown",
      "source": [
        "### Functions"
      ]
    },
    {
      "metadata": {
        "id": "dlvdHg6CS8LY",
        "colab_type": "code",
        "outputId": "66167390-1b26-49ca-d4c1-9df590538e1f",
        "colab": {
          "base_uri": "https://localhost:8080/",
          "height": 101
        }
      },
      "cell_type": "code",
      "source": [
        "\n",
        "help(abs)"
      ],
      "execution_count": 0,
      "outputs": [
        {
          "output_type": "stream",
          "text": [
            "Help on built-in function abs in module builtins:\n",
            "\n",
            "abs(x, /)\n",
            "    Return the absolute value of the argument.\n",
            "\n"
          ],
          "name": "stdout"
        }
      ]
    },
    {
      "metadata": {
        "id": "f5sOn9RFWiJL",
        "colab_type": "code",
        "colab": {}
      },
      "cell_type": "code",
      "source": [
        "def least_difference(num1, num2, num3):\n",
        "    '''(number, number, number) -> number\n",
        "    \n",
        "    Returns the smallest difference between a pair of arguments num1, num2,and\n",
        "    num3\n",
        "    \n",
        "    >>> least_difference(10, 22, 2)\n",
        "    8\n",
        "    >>> least_difference(10, 0, -1)\n",
        "    1\n",
        "    >>> least_difference(1, 5, -5)\n",
        "    4\n",
        "    '''\n",
        "    diff1 = abs(num1 - num2)\n",
        "    diff2 = abs(num2 - num3)\n",
        "    diff3 = abs(num3 - num1)\n",
        "    return min(diff1, diff2, diff3)"
      ],
      "execution_count": 0,
      "outputs": []
    },
    {
      "metadata": {
        "id": "PZ9wfUmzYSKn",
        "colab_type": "code",
        "outputId": "efcc5318-8d50-42e2-e892-a8d97c47c094",
        "colab": {
          "base_uri": "https://localhost:8080/",
          "height": 34
        }
      },
      "cell_type": "code",
      "source": [
        "import doctest\n",
        "doctest.testmod()"
      ],
      "execution_count": 0,
      "outputs": [
        {
          "output_type": "execute_result",
          "data": {
            "text/plain": [
              "TestResults(failed=0, attempted=3)"
            ]
          },
          "metadata": {
            "tags": []
          },
          "execution_count": 19
        }
      ]
    },
    {
      "metadata": {
        "id": "NiLSmCUMYWw6",
        "colab_type": "code",
        "outputId": "e5742551-7ec4-4e6f-b20d-3c979be43ea0",
        "colab": {
          "base_uri": "https://localhost:8080/",
          "height": 269
        }
      },
      "cell_type": "code",
      "source": [
        "help(least_difference)"
      ],
      "execution_count": 0,
      "outputs": [
        {
          "output_type": "stream",
          "text": [
            "Help on function least_difference in module __main__:\n",
            "\n",
            "least_difference(num1, num2, num3)\n",
            "    (number, number, number) -> number\n",
            "    \n",
            "    Returns the smallest difference between a pair of arguments num1, num2,and\n",
            "    num3\n",
            "    \n",
            "    >>> least_difference(10, 22, 2)\n",
            "    8\n",
            "    >>> least_difference(10, 0, -1)\n",
            "    1\n",
            "    >>> least_difference(1, 5, -5)\n",
            "    4\n",
            "\n"
          ],
          "name": "stdout"
        }
      ]
    },
    {
      "metadata": {
        "id": "9R6fvWzeaWxL",
        "colab_type": "code",
        "outputId": "9e38a746-853d-4af3-f55e-0ea463f51dcb",
        "colab": {
          "base_uri": "https://localhost:8080/",
          "height": 50
        }
      },
      "cell_type": "code",
      "source": [
        "mystery = print(10)\n",
        "print(mystery)"
      ],
      "execution_count": 0,
      "outputs": [
        {
          "output_type": "stream",
          "text": [
            "10\n",
            "None\n"
          ],
          "name": "stdout"
        }
      ]
    },
    {
      "metadata": {
        "id": "PTy2SIiDa2Xa",
        "colab_type": "code",
        "outputId": "286464e8-ccce-4793-a614-d36192a036c8",
        "colab": {
          "base_uri": "https://localhost:8080/",
          "height": 34
        }
      },
      "cell_type": "code",
      "source": [
        "print(1, 2, 3, sep = ' < ')"
      ],
      "execution_count": 0,
      "outputs": [
        {
          "output_type": "stream",
          "text": [
            "1 < 2 < 3\n"
          ],
          "name": "stdout"
        }
      ]
    },
    {
      "metadata": {
        "id": "SJTQPbuLa_lf",
        "colab_type": "code",
        "outputId": "77de28fc-f52e-4cb0-a088-e58f52a753f9",
        "colab": {
          "base_uri": "https://localhost:8080/",
          "height": 67
        }
      },
      "cell_type": "code",
      "source": [
        "def greet(who = 'Colin'):\n",
        "    print('Hello,', who)\n",
        "    \n",
        "greet()\n",
        "greet('Kaggle')\n",
        "greet('world')"
      ],
      "execution_count": 0,
      "outputs": [
        {
          "output_type": "stream",
          "text": [
            "Hello, Colin\n",
            "Hello, Kaggle\n",
            "Hello, world\n"
          ],
          "name": "stdout"
        }
      ]
    },
    {
      "metadata": {
        "id": "Jaf2T-LabbD6",
        "colab_type": "code",
        "outputId": "0ef26846-256c-424d-9cf4-10b6f1424c6e",
        "colab": {
          "base_uri": "https://localhost:8080/",
          "height": 50
        }
      },
      "cell_type": "code",
      "source": [
        "def mult_by_5(x):\n",
        "    return 5 * x\n",
        "\n",
        "def call(fn, arg):\n",
        "    '''\n",
        "    Calling function on arg\n",
        "    '''\n",
        "    return fn(arg)\n",
        "\n",
        "def squared_call(fn, arg):\n",
        "    return fn(fn(arg))\n",
        "\n",
        "print(\n",
        "    call(mult_by_5, 2),\n",
        "    squared_call(mult_by_5, 2), \n",
        "    sep = '\\n'\n",
        ")"
      ],
      "execution_count": 0,
      "outputs": [
        {
          "output_type": "stream",
          "text": [
            "10\n",
            "50\n"
          ],
          "name": "stdout"
        }
      ]
    },
    {
      "metadata": {
        "id": "oJrETLV8cbz3",
        "colab_type": "code",
        "outputId": "f73c10d8-772b-40d7-82fb-a37c5c5c13ee",
        "colab": {
          "base_uri": "https://localhost:8080/",
          "height": 50
        }
      },
      "cell_type": "code",
      "source": [
        "def mod_5(x):\n",
        "    '''\n",
        "    Returns the modulus of 5\n",
        "    '''\n",
        "    return x % 5\n",
        "\n",
        "print(\n",
        "    max(100, 12, 200),\n",
        "    max(-100, -200, -10, key = abs),\n",
        "    sep = '\\n'\n",
        ")"
      ],
      "execution_count": 0,
      "outputs": [
        {
          "output_type": "stream",
          "text": [
            "200\n",
            "-200\n"
          ],
          "name": "stdout"
        }
      ]
    },
    {
      "metadata": {
        "id": "__E_cvSvdZDI",
        "colab_type": "code",
        "outputId": "92da7495-aa48-45da-d26e-443fba288942",
        "colab": {
          "base_uri": "https://localhost:8080/",
          "height": 168
        }
      },
      "cell_type": "code",
      "source": [
        "help(round)"
      ],
      "execution_count": 0,
      "outputs": [
        {
          "output_type": "stream",
          "text": [
            "Help on built-in function round in module builtins:\n",
            "\n",
            "round(...)\n",
            "    round(number[, ndigits]) -> number\n",
            "    \n",
            "    Round a number to a given precision in decimal digits (default 0 digits).\n",
            "    This returns an int when called with one argument, otherwise the\n",
            "    same type as the number. ndigits may be negative.\n",
            "\n"
          ],
          "name": "stdout"
        }
      ]
    },
    {
      "metadata": {
        "id": "wTkndYLPfwt5",
        "colab_type": "text"
      },
      "cell_type": "markdown",
      "source": [
        "### Booleans"
      ]
    },
    {
      "metadata": {
        "id": "1ytjeQ-cd7xZ",
        "colab_type": "code",
        "outputId": "e97312a7-8c7c-4abd-d6cd-1dee51a424b6",
        "colab": {
          "base_uri": "https://localhost:8080/",
          "height": 34
        }
      },
      "cell_type": "code",
      "source": [
        "type(True)"
      ],
      "execution_count": 0,
      "outputs": [
        {
          "output_type": "execute_result",
          "data": {
            "text/plain": [
              "bool"
            ]
          },
          "metadata": {
            "tags": []
          },
          "execution_count": 28
        }
      ]
    },
    {
      "metadata": {
        "id": "946dlfCpf08C",
        "colab_type": "code",
        "outputId": "8ab7fca7-f7dd-4447-c03e-94cf0204b356",
        "colab": {
          "base_uri": "https://localhost:8080/",
          "height": 34
        }
      },
      "cell_type": "code",
      "source": [
        "print(type(False))"
      ],
      "execution_count": 0,
      "outputs": [
        {
          "output_type": "stream",
          "text": [
            "<class 'bool'>\n"
          ],
          "name": "stdout"
        }
      ]
    },
    {
      "metadata": {
        "id": "IBT8i9zKf4Xt",
        "colab_type": "code",
        "outputId": "f035af12-614d-4ae6-e55b-11aeaec93c84",
        "colab": {
          "base_uri": "https://localhost:8080/",
          "height": 34
        }
      },
      "cell_type": "code",
      "source": [
        "def is_odd(x):\n",
        "    return x % 2 != 0\n",
        "\n",
        "is_odd(10)"
      ],
      "execution_count": 0,
      "outputs": [
        {
          "output_type": "execute_result",
          "data": {
            "text/plain": [
              "False"
            ]
          },
          "metadata": {
            "tags": []
          },
          "execution_count": 30
        }
      ]
    },
    {
      "metadata": {
        "id": "pywaNx4PjH5e",
        "colab_type": "code",
        "outputId": "fdcd8a3d-a657-4a46-adb9-499d8adac7dd",
        "colab": {
          "base_uri": "https://localhost:8080/",
          "height": 34
        }
      },
      "cell_type": "code",
      "source": [
        "is_odd(-1)"
      ],
      "execution_count": 0,
      "outputs": [
        {
          "output_type": "execute_result",
          "data": {
            "text/plain": [
              "True"
            ]
          },
          "metadata": {
            "tags": []
          },
          "execution_count": 32
        }
      ]
    },
    {
      "metadata": {
        "id": "Ni407k-njJSP",
        "colab_type": "code",
        "outputId": "e49a49b9-785d-4164-cae1-ef5cad5902b8",
        "colab": {
          "base_uri": "https://localhost:8080/",
          "height": 34
        }
      },
      "cell_type": "code",
      "source": [
        "def quiz_message(grade):\n",
        "    outcome = 'failed' if grade < 50 else 'passed'\n",
        "    print('You', outcome, 'with a grade of', grade)\n",
        "    \n",
        "quiz_message(10)"
      ],
      "execution_count": 0,
      "outputs": [
        {
          "output_type": "stream",
          "text": [
            "You failed with a grade of 10\n"
          ],
          "name": "stdout"
        }
      ]
    },
    {
      "metadata": {
        "id": "TH82WxtFlh6C",
        "colab_type": "code",
        "outputId": "6f281d77-789f-48c5-a8bf-5d7229dd9b8e",
        "colab": {
          "base_uri": "https://localhost:8080/",
          "height": 34
        }
      },
      "cell_type": "code",
      "source": [
        "not (True and False)"
      ],
      "execution_count": 0,
      "outputs": [
        {
          "output_type": "execute_result",
          "data": {
            "text/plain": [
              "True"
            ]
          },
          "metadata": {
            "tags": []
          },
          "execution_count": 35
        }
      ]
    }
  ]
}